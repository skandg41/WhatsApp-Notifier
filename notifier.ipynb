{
  "nbformat": 4,
  "nbformat_minor": 0,
  "metadata": {
    "colab": {
      "name": "Untitled2.ipynb",
      "provenance": [],
      "authorship_tag": "ABX9TyNXF3TMp3Tqdj4FRzqVsQQu",
      "include_colab_link": true
    },
    "kernelspec": {
      "name": "python3",
      "display_name": "Python 3"
    }
  },
  "cells": [
    {
      "cell_type": "markdown",
      "metadata": {
        "id": "view-in-github",
        "colab_type": "text"
      },
      "source": [
        "<a href=\"https://colab.research.google.com/github/skandg41/WhatsApp-Notifier/blob/master/notifier.ipynb\" target=\"_parent\"><img src=\"https://colab.research.google.com/assets/colab-badge.svg\" alt=\"Open In Colab\"/></a>"
      ]
    },
    {
      "cell_type": "code",
      "metadata": {
        "id": "5pfvHyPRaiQ8",
        "colab_type": "code",
        "colab": {
          "base_uri": "https://localhost:8080/",
          "height": 212
        },
        "outputId": "8f7a6301-39dc-4bd9-d274-35d783086b67"
      },
      "source": [
        "# Download the helper library from https://www.twilio.com/docs/python/install\n",
        "from twilio.rest import Client\n",
        "import datetime\n",
        "import time\n",
        "# Your Account Sid and Auth Token from twilio.com/console\n",
        "# DANGER! This is insecure. See http://twil.io/secure\n",
        "account_sid = 'ACa68a3f94df7173c0abfe989cdad8b54b'\n",
        "auth_token = 'a96cdfae589757b08afa1e8cd9131efd'\n",
        "client = Client(account_sid, auth_token)\n",
        "while True:\n",
        "  x=datetime.datetime.now()\n",
        "  message = client.messages.create(\n",
        "                                  from_='whatsapp:+14155238886',\n",
        "                                  body=\"Today is \" + str(x.date()) + \"& Current time is \" + str(x.time()),\n",
        "                                  to='whatsapp:+918982067673'\n",
        "                              )\n",
        "  print(message.sid)\n",
        "  time.sleep(24.0 * 60.0 * 60.0)  # 24 hours in seconds"
      ],
      "execution_count": 29,
      "outputs": [
        {
          "output_type": "stream",
          "text": [
            "SM25f41eebf47b49458b571bd83f6d5c04\n"
          ],
          "name": "stdout"
        },
        {
          "output_type": "error",
          "ename": "KeyboardInterrupt",
          "evalue": "ignored",
          "traceback": [
            "\u001b[0;31m---------------------------------------------------------------------------\u001b[0m",
            "\u001b[0;31mKeyboardInterrupt\u001b[0m                         Traceback (most recent call last)",
            "\u001b[0;32m<ipython-input-29-5bb5624b5e50>\u001b[0m in \u001b[0;36m<module>\u001b[0;34m()\u001b[0m\n\u001b[1;32m     16\u001b[0m                               )\n\u001b[1;32m     17\u001b[0m   \u001b[0mprint\u001b[0m\u001b[0;34m(\u001b[0m\u001b[0mmessage\u001b[0m\u001b[0;34m.\u001b[0m\u001b[0msid\u001b[0m\u001b[0;34m)\u001b[0m\u001b[0;34m\u001b[0m\u001b[0;34m\u001b[0m\u001b[0m\n\u001b[0;32m---> 18\u001b[0;31m   \u001b[0mtime\u001b[0m\u001b[0;34m.\u001b[0m\u001b[0msleep\u001b[0m\u001b[0;34m(\u001b[0m\u001b[0;36m24.0\u001b[0m \u001b[0;34m*\u001b[0m \u001b[0;36m60.0\u001b[0m \u001b[0;34m*\u001b[0m \u001b[0;36m60.0\u001b[0m\u001b[0;34m)\u001b[0m  \u001b[0;31m# 24 hours in seconds\u001b[0m\u001b[0;34m\u001b[0m\u001b[0;34m\u001b[0m\u001b[0m\n\u001b[0m",
            "\u001b[0;31mKeyboardInterrupt\u001b[0m: "
          ]
        }
      ]
    },
    {
      "cell_type": "code",
      "metadata": {
        "id": "IHVOgoo2aprd",
        "colab_type": "code",
        "colab": {
          "base_uri": "https://localhost:8080/",
          "height": 336
        },
        "outputId": "a64dbee2-5235-4629-98b5-23de2b58ab67"
      },
      "source": [
        "!pip install twilio"
      ],
      "execution_count": 1,
      "outputs": [
        {
          "output_type": "stream",
          "text": [
            "Collecting twilio\n",
            "\u001b[?25l  Downloading https://files.pythonhosted.org/packages/f2/24/3c57881addf65177c458e238e00757f94bb092570fbfc785c8b7e362ea66/twilio-6.42.0.tar.gz (437kB)\n",
            "\r\u001b[K     |▊                               | 10kB 8.3MB/s eta 0:00:01\r\u001b[K     |█▌                              | 20kB 1.5MB/s eta 0:00:01\r\u001b[K     |██▎                             | 30kB 2.0MB/s eta 0:00:01\r\u001b[K     |███                             | 40kB 1.6MB/s eta 0:00:01\r\u001b[K     |███▊                            | 51kB 1.9MB/s eta 0:00:01\r\u001b[K     |████▌                           | 61kB 2.1MB/s eta 0:00:01\r\u001b[K     |█████▎                          | 71kB 2.4MB/s eta 0:00:01\r\u001b[K     |██████                          | 81kB 2.6MB/s eta 0:00:01\r\u001b[K     |██████▊                         | 92kB 2.7MB/s eta 0:00:01\r\u001b[K     |███████▌                        | 102kB 2.7MB/s eta 0:00:01\r\u001b[K     |████████▎                       | 112kB 2.7MB/s eta 0:00:01\r\u001b[K     |█████████                       | 122kB 2.7MB/s eta 0:00:01\r\u001b[K     |█████████▊                      | 133kB 2.7MB/s eta 0:00:01\r\u001b[K     |██████████▌                     | 143kB 2.7MB/s eta 0:00:01\r\u001b[K     |███████████▎                    | 153kB 2.7MB/s eta 0:00:01\r\u001b[K     |████████████                    | 163kB 2.7MB/s eta 0:00:01\r\u001b[K     |████████████▊                   | 174kB 2.7MB/s eta 0:00:01\r\u001b[K     |█████████████▌                  | 184kB 2.7MB/s eta 0:00:01\r\u001b[K     |██████████████▎                 | 194kB 2.7MB/s eta 0:00:01\r\u001b[K     |███████████████                 | 204kB 2.7MB/s eta 0:00:01\r\u001b[K     |███████████████▊                | 215kB 2.7MB/s eta 0:00:01\r\u001b[K     |████████████████▌               | 225kB 2.7MB/s eta 0:00:01\r\u001b[K     |█████████████████▎              | 235kB 2.7MB/s eta 0:00:01\r\u001b[K     |██████████████████              | 245kB 2.7MB/s eta 0:00:01\r\u001b[K     |██████████████████▊             | 256kB 2.7MB/s eta 0:00:01\r\u001b[K     |███████████████████▌            | 266kB 2.7MB/s eta 0:00:01\r\u001b[K     |████████████████████▎           | 276kB 2.7MB/s eta 0:00:01\r\u001b[K     |█████████████████████           | 286kB 2.7MB/s eta 0:00:01\r\u001b[K     |█████████████████████▊          | 296kB 2.7MB/s eta 0:00:01\r\u001b[K     |██████████████████████▌         | 307kB 2.7MB/s eta 0:00:01\r\u001b[K     |███████████████████████▎        | 317kB 2.7MB/s eta 0:00:01\r\u001b[K     |████████████████████████        | 327kB 2.7MB/s eta 0:00:01\r\u001b[K     |████████████████████████▊       | 337kB 2.7MB/s eta 0:00:01\r\u001b[K     |█████████████████████████▌      | 348kB 2.7MB/s eta 0:00:01\r\u001b[K     |██████████████████████████▎     | 358kB 2.7MB/s eta 0:00:01\r\u001b[K     |███████████████████████████     | 368kB 2.7MB/s eta 0:00:01\r\u001b[K     |███████████████████████████▊    | 378kB 2.7MB/s eta 0:00:01\r\u001b[K     |████████████████████████████▌   | 389kB 2.7MB/s eta 0:00:01\r\u001b[K     |█████████████████████████████▎  | 399kB 2.7MB/s eta 0:00:01\r\u001b[K     |██████████████████████████████  | 409kB 2.7MB/s eta 0:00:01\r\u001b[K     |██████████████████████████████▊ | 419kB 2.7MB/s eta 0:00:01\r\u001b[K     |███████████████████████████████▌| 430kB 2.7MB/s eta 0:00:01\r\u001b[K     |████████████████████████████████| 440kB 2.7MB/s \n",
            "\u001b[?25hRequirement already satisfied: six in /usr/local/lib/python3.6/dist-packages (from twilio) (1.12.0)\n",
            "Requirement already satisfied: pytz in /usr/local/lib/python3.6/dist-packages (from twilio) (2018.9)\n",
            "Collecting PyJWT>=1.4.2\n",
            "  Downloading https://files.pythonhosted.org/packages/87/8b/6a9f14b5f781697e51259d81657e6048fd31a113229cf346880bb7545565/PyJWT-1.7.1-py2.py3-none-any.whl\n",
            "Requirement already satisfied: requests>=2.0.0 in /usr/local/lib/python3.6/dist-packages (from twilio) (2.23.0)\n",
            "Requirement already satisfied: idna<3,>=2.5 in /usr/local/lib/python3.6/dist-packages (from requests>=2.0.0->twilio) (2.9)\n",
            "Requirement already satisfied: certifi>=2017.4.17 in /usr/local/lib/python3.6/dist-packages (from requests>=2.0.0->twilio) (2020.4.5.2)\n",
            "Requirement already satisfied: chardet<4,>=3.0.2 in /usr/local/lib/python3.6/dist-packages (from requests>=2.0.0->twilio) (3.0.4)\n",
            "Requirement already satisfied: urllib3!=1.25.0,!=1.25.1,<1.26,>=1.21.1 in /usr/local/lib/python3.6/dist-packages (from requests>=2.0.0->twilio) (1.24.3)\n",
            "Building wheels for collected packages: twilio\n",
            "  Building wheel for twilio (setup.py) ... \u001b[?25l\u001b[?25hdone\n",
            "  Created wheel for twilio: filename=twilio-6.42.0-py2.py3-none-any.whl size=1155037 sha256=8603e8e3a92d775431ee44c626b3c5a2d1620cb95425a183e4d5684fc104ca31\n",
            "  Stored in directory: /root/.cache/pip/wheels/3f/78/89/63e5a7f72f12f3cb88b49b6a8e55fd77ea41242d00c6881003\n",
            "Successfully built twilio\n",
            "Installing collected packages: PyJWT, twilio\n",
            "Successfully installed PyJWT-1.7.1 twilio-6.42.0\n"
          ],
          "name": "stdout"
        }
      ]
    }
  ]
}